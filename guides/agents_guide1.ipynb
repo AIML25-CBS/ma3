{
 "cells": [
  {
   "cell_type": "markdown",
   "metadata": {},
   "source": [
    "**AI & Machine Learning (KAN-CINTO4003U) - Copenhagen Business School | Spring 2025**\n",
    "\n",
    "***"
   ]
  },
  {
   "cell_type": "markdown",
   "metadata": {},
   "source": [
    "\n",
    "<p align=\"center\">\n",
    "<img src=\"media/agents_header.png\" alt=\"LLM\" width=\"800\"/> <br>\n",
    "Image from TrueFoundry's \"<i><a href=\"https://www.truefoundry.com/blog/llm-agents\">What are LLM Agents?</a></i>\". <br>Copyright © 2025. All rights reserved.\n",
    "</p>\n",
    "\n",
    "***\n",
    "Sources: <br>\n",
    "- [What are LLM Agents? (TrueFoundry)](https://www.truefoundry.com/blog/llm-agents)\n",
    "- [What is an AI Agent? (LangChain)](https://blog.langchain.dev/what-is-an-agent/)\n",
    "\n",
    "\n",
    "# LLM agents\n",
    "\n",
    "Think about how we have used LLMs so far: We have an LLM a single task. It's easy to consider that we could *chain* these tasks together to create a more complex system. For example, we could ask a language model to generate a summary of a text, and then - in a separate step - ask it to classify the sentiment of the summary. This is what we call *chaining* of LLM tasks. In chains, a sequence of actions is hardcoded (in code). In agents, a language model is used as a *reasoning engine* to determine which actions to take and in which order. In other words, an AI agent is a system that uses an LLM to decide the control flow of an application, instead of having it hardcoded. \n",
    "\n",
    "An LLM Agent will\n",
    "\n",
    "1. Receive a sensory input (e.g. a text)\n",
    "2. Decide what to do with it\n",
    "3. Take an action (e.g. generate a summary)\n",
    "\n",
    "Let's think about the implications of this for a moment. If we can get an LLM to consider a task and then decide for itself how best to solve it, we are approaching a very human-like way of thinking.\n",
    "\n",
    "### What does it mean to be agentic?\n",
    "\n",
    "<p align=\"center\">\n",
    "<img src=\"media/levels-of-agentic.png\" alt=\"LLM\" width=\"800\"/> <br>\n",
    "Image from LangChain's \"<i><a href=\"https://blog.langchain.dev/what-is-an-agent/\">What is an AI agent?</a></i>\" by Harrison Chase, CEO of LangChain AI. <br>Copyright © 2025. All rights reserved.\n",
    "</p>\n",
    "\n",
    "According to Harisson Chase, a system is more “agentic” the more an LLM decides how the system can behave.\n",
    "\n",
    "| Level of Agentic Behavior                                                                 | Description                                                                                                                                                     |\n",
    "|------------------------------------------------------------------------------------------|-----------------------------------------------------------------------------------------------------------------------------------------------------------------|\n",
    "| Router                                                                                   | Using an LLM to route inputs into a particular downstream workflow has some small amount of “agentic” behavior. This would fall into the `Router` category.       |\n",
    "| Between Router and State Machine                                                        | If you use multiple LLMs to do multiple routing steps, this would be somewhere between `Router` and `State Machine`.                                                |\n",
    "| State Machine                                                                            | If one of those steps is determining whether to continue or finish - effectively allowing the system to run in a loop until finished, it would fall into this category. |\n",
    "| Autonomous Agent                                                                         | If the system is building tools, remembering those, and then taking those in future steps, it is incredibly agentic, similar to what the [Voyager paper](https://arxiv.org/abs/2305.16291) implemented. |\n",
    "\n",
    "### Agents as graph-based systems\n",
    "\n",
    "<p align=\"center\">\n",
    "<img src=\"media/graph.png\" alt=\"LLM\" width=\"800\"/> <br>\n",
    "Image from Ionio \"<i><a href=\"https://www.ionio.ai/blog/a-comprehensive-guide-about-langgraph-code-included\">A Comprehensive Guide About Langgraph</a></i>\". <br>by Shivam Danawale and Pranav Patel<br>\n",
    "Copyright © 2025. All rights reserved.\n",
    "</p>\n",
    "\n",
    "Following the image above, we see that the workflow is triggered by an input from a user. Next, we hit the first node, likely an LLM. This LLM provides an output - not back to the user but to the next nodes, routed via *conditional edges*. In other words, we can pick which route we will take to answer the query - or carry out the associated task. We can repeat this process for downstream nodes. Eventually, we will end in an *END* node - or we might even return to the first node again and start over!\n",
    "\n",
    "***\n",
    "\n",
    "### Agents in LangGraph\n",
    "\n",
    "We will be using *LangGraph* to create a simple agent system in this notebook. LangGraph is a graph-based system that allows us to create complex workflows using LLMs. A couple of key concepts in LangGraph are:\n",
    "\n",
    "| Concept  | Description |\n",
    "|---------------| ------|\n",
    "| **State**     | State is the central concept in LangGraph. It represents all the information that flows through your application. |\n",
    "| **Node**      | A node is a single unit of computation - just like neurons in neural networks. In LangGraph, nodes are Python functions. For example, Nodes can contain LLM calls (Generate text or make decisions), Tool calls (Interact with external systems), Conditional logic (Determine next steps), Human intervention (Get input from users). Some nodes necessary for the whole workflow like START and END exist from LangGraph directly. |\n",
    "| **Edges**     | Edges connect nodes and define the possible paths through your graph. |\n",
    "| **StateGraph**| The StateGraph is the container that holds your entire agent workflow. |\n",
    "\n",
    "LangChain has released an excellent [introduction to these concepts here](https://huggingface.co/learn/agents-course/unit2/langgraph/building_blocks)\n",
    "\n",
    "\n",
    "\n",
    "\n",
    "\n"
   ]
  },
  {
   "cell_type": "markdown",
   "metadata": {},
   "source": [
    "### Setup\n",
    "\n",
    "We will be using *LangGraph* to create a simple agent system. LangGraph is a graph-based system that allows us to create complex workflows using LLMs. "
   ]
  },
  {
   "cell_type": "code",
   "execution_count": null,
   "metadata": {},
   "outputs": [],
   "source": [
    "# built-in libraries\n",
    "from typing import TypeVar, Literal, TypedDict,  Any, Optional\n",
    "\n",
    "# langgraph libraries\n",
    "from langgraph.graph import StateGraph, START, END\n",
    "from langchain_core.runnables.graph import  MermaidDrawMethod\n",
    "\n",
    "# litellm libraries\n",
    "import litellm\n",
    "from litellm import completion\n",
    "from instructor import Mode, from_litellm\n",
    "\n",
    "# misc libraries\n",
    "from IPython.display import Image\n",
    "from decouple import config\n",
    "from pydantic import BaseModel, Field, create_model\n",
    "from ibm_watsonx_ai.metanames import GenTextParamsMetaNames as GenParams"
   ]
  },
  {
   "cell_type": "markdown",
   "metadata": {},
   "source": [
    "Let's start by loading our WatsonX.ai credentials again"
   ]
  },
  {
   "cell_type": "code",
   "execution_count": 44,
   "metadata": {},
   "outputs": [],
   "source": [
    "WX_API_KEY = config(\"WX_API_KEY\")\n",
    "WX_PROJECT_ID = config(\"WX_PROJECT_ID\")\n",
    "WX_API_URL = \"https://us-south.ml.cloud.ibm.com\""
   ]
  },
  {
   "cell_type": "markdown",
   "metadata": {},
   "source": [
    "***\n",
    "\n",
    "## Using Instructor for LLM interactions"
   ]
  },
  {
   "cell_type": "markdown",
   "metadata": {},
   "source": [
    "Remember how we used `litellm` and `instructor` to setup our LLM-as-a-judge in part 1: RAG? We will use the same concept here. \n",
    "\n",
    "| **Library**   | **Description**   |\n",
    "|---------------| -|\n",
    "| **LiteLLM**   | A convenient wrapper to call 100+ LLMs using OpenAI's Input/Output Format. It <br>(1) automatically translates inputs to provider's completion, embedding, and image_generation endpoints, <br>(2) ensures consistent output at `['choices'][0]['message']['content']`, and <br>(3) implements retry/fallback logic across multiple deployments (e.g., Azure/OpenAI). |\n",
    "| **Instructor**| Makes it easy to get structured data like JSON from LLMs. It enables us to get a `pydantic` model from the response, ensuring that the LLM always outputs the same format. For example, it can provide multiple responses like a category and a reason for its choice. |\n",
    "\n",
    "Let's try a small examples"
   ]
  },
  {
   "cell_type": "code",
   "execution_count": null,
   "metadata": {},
   "outputs": [],
   "source": [
    "litellm.drop_params = True  # watsonx.ai doesn't support `json_mode`\n",
    "client = from_litellm(completion, mode=Mode.JSON)  # create a client from litellm\n",
    "\n",
    "# create a response model\n",
    "class Response(BaseModel): # <--- BaseModel is a Pydantic class\n",
    "\n",
    "    # ask the LLM to return a short reasoning - Remember how reasoning can help LLMs?\n",
    "    reasoning : str = Field(description=\"The short reasoning behind the answer\")\n",
    "    # ask the LLM to return the answer as a separate field\n",
    "    answer : str = Field(description=\"Your answer to the question\")\n",
    "\n",
    "\n",
    "# define a prompt\n",
    "prompt = \"\"\"You are a cat expert. Answer the following question about cats:\n",
    "\n",
    "Q: What is the average lifespan of a cat?\n",
    "\n",
    "Provide your answer as an object of Response\"\"\" # <-- We ask the model to return the answer as an object of Response\n",
    "\n",
    "# make a request to the LLM\n",
    "response = client.chat.completions.create(\n",
    "            model=\"watsonx/meta-llama/llama-3-3-70b-instruct\", # <--- model name from watsonx.ai\n",
    "            messages=[\n",
    "                {\n",
    "                    \"role\": \"user\",\n",
    "                    \"content\": prompt,  # <- Our prompt\n",
    "                }\n",
    "            ],\n",
    "            project_id=WX_PROJECT_ID, # <- Our credentials\n",
    "            apikey=WX_API_KEY,\n",
    "            api_base=WX_API_URL,\n",
    "            response_model=Response, # <- Inform the LLM of the response model\n",
    ")"
   ]
  },
  {
   "cell_type": "code",
   "execution_count": 46,
   "metadata": {},
   "outputs": [
    {
     "data": {
      "text/plain": [
       "Response(reasoning=\"This is based on various studies and data from veterinary organizations, which suggest that with proper care and nutrition, a domestic cat's average lifespan ranges from 12 to 15 years, depending on factors such as breed, lifestyle, and health conditions\", answer='The average lifespan of a cat is around 12-15 years')"
      ]
     },
     "execution_count": 46,
     "metadata": {},
     "output_type": "execute_result"
    }
   ],
   "source": [
    "response"
   ]
  },
  {
   "cell_type": "code",
   "execution_count": 50,
   "metadata": {},
   "outputs": [
    {
     "name": "stdout",
     "output_type": "stream",
     "text": [
      "This is based on various studies and data from veterinary organizations, which suggest that with proper care and nutrition, a domestic cat's average lifespan ranges from 12 to 15 years, depending on factors such as breed, lifestyle, and health conditions\n",
      "The average lifespan of a cat is around 12-15 years\n"
     ]
    }
   ],
   "source": [
    "print(response.reasoning)\n",
    "\n",
    "print(response.answer)"
   ]
  },
  {
   "cell_type": "markdown",
   "metadata": {},
   "source": [
    "Pretty neat, right?\n",
    "\n",
    "***"
   ]
  },
  {
   "cell_type": "markdown",
   "metadata": {},
   "source": [
    "But what if we don't want to define response models for every call we make to an LLM? `pydantic` (and therefore `instructor`) supports *dynamic* response models, via the `create_model` function. \n",
    "\n",
    "We can use that like shown below. Note that we have to define the type (i.e. str, int, float or bool) of each response field and add a `Field` object as well. The Field object can be used to define default values, add descriptions for the LLM etc. "
   ]
  },
  {
   "cell_type": "code",
   "execution_count": 52,
   "metadata": {},
   "outputs": [],
   "source": [
    "response_model = create_model(\n",
    "    \"MyResponseModel\", \n",
    "    reasoning=(str, Field(description=\"The short reasoning behind the answer\")),\n",
    "    answer=(str, Field(description=\"Your answer to the question\")),\n",
    "    __base__=BaseModel\n",
    ") "
   ]
  },
  {
   "cell_type": "code",
   "execution_count": 54,
   "metadata": {},
   "outputs": [
    {
     "data": {
      "text/plain": [
       "MyResponseModel(reasoning='what the LLM would reason about', answer='what the LLM would answer')"
      ]
     },
     "execution_count": 54,
     "metadata": {},
     "output_type": "execute_result"
    }
   ],
   "source": [
    "response_model(reasoning=\"what the LLM would reason about\", answer=\"what the LLM would answer\")"
   ]
  },
  {
   "cell_type": "markdown",
   "metadata": {},
   "source": [
    "To make our life even easier, here is a class - `LLMCaller` that will do everything we just did for us. "
   ]
  },
  {
   "cell_type": "code",
   "execution_count": 55,
   "metadata": {},
   "outputs": [],
   "source": [
    "class BaseResponse(BaseModel):\n",
    "    \"\"\"A default response model that defines a single \n",
    "    field `answer` to store the response from the LLM.\n",
    "    We will use this when there is no need to create\n",
    "    a custom response model.\"\"\"\n",
    "    answer: str\n",
    "\n",
    "\n",
    "# Define a type variable for the response model\n",
    "# this you can ignore for now - it is just for type hinting\n",
    "ResponseType = TypeVar('ResponseType', bound=BaseModel)\n",
    "\n",
    "\n",
    "class LLMCaller:\n",
    "    \"\"\" A class to interact with an LLM  using the LiteLLM and Instructor\n",
    "    libraries. This class is designed to simplify the process of sending\n",
    "    prompts to an LLM and receiving structured responses. \"\"\"\n",
    "\n",
    "    def __init__(self, api_key: str, project_id: str, api_url: str, model_id: str, params: dict[str, Any]):\n",
    "        \"\"\"\n",
    "        Initializes the LLMCaller instance with the necessary credentials and configuration.\n",
    "\n",
    "        Args:\n",
    "            api_key (str): The API key for authenticating with the LLM service.\n",
    "            project_id (str): The project ID associated with the LLM service.\n",
    "            api_url (str): The base URL for the LLM service API.\n",
    "            model_id (str): The identifier of the specific LLM model to use.\n",
    "            params (dict[str, Any]): Additional parameters to configure the LLM's behavior.\n",
    "        \"\"\"\n",
    "        self.api_key = api_key\n",
    "        self.project_id = project_id\n",
    "        self.api_url = api_url\n",
    "        self.model_id = model_id\n",
    "        self.params = params\n",
    "\n",
    "        # Boilerplate: Configure LiteLLM to drop unsupported parameters for Watsonx.ai\n",
    "        litellm.drop_params = True\n",
    "        # Boilerplate: Create an Instructor client for pydantic-based interactions with the LLM\n",
    "        self.client = from_litellm(completion, mode=Mode.JSON)\n",
    "\n",
    "    def create_response_model(self, title: str, fields: dict) -> ResponseType:\n",
    "        \"\"\" Dynamically creates a Pydantic response model for the LLM's output.\n",
    "        Args:\n",
    "            title (str): The name of the response model.\n",
    "            fields (dict): A dictionary defining the fields of the response model.\n",
    "                           Keys are field names, and values are tuples of (type, Field).\n",
    "\n",
    "        Returns:\n",
    "            ResponseType: A dynamically created Pydantic model class.\n",
    "        \"\"\"\n",
    "        return create_model(title, **fields, __base__=BaseResponse)\n",
    "\n",
    "    def invoke(self, prompt: str, response_model: ResponseType = BaseResponse, **kwargs) -> ResponseType:\n",
    "        \"\"\" Sends a prompt to the LLM and retrieves a structured response.\n",
    "\n",
    "        Args:\n",
    "            prompt (str): The input prompt to send to the LLM.\n",
    "            response_model (ResponseType): The Pydantic model to structure the LLM's response.\n",
    "                                           Defaults to BaseResponse.\n",
    "            **kwargs: Additional arguments to pass to the LLM client.\n",
    "\n",
    "        Returns:\n",
    "            ResponseType: The structured response from the LLM, parsed into the specified response model.\n",
    "        \"\"\"\n",
    "        response = self.client.chat.completions.create(\n",
    "            model=self.model_id,\n",
    "            messages=[\n",
    "                {\n",
    "                    \"role\": \"user\",\n",
    "                    \"content\": prompt + \"\\n\\n\" + f\"Provide your answer as an object of {type(response_model)}\",\n",
    "                    # notice how we hardcode instructions on the responde model type for the llm\n",
    "                    # so we don't have to repeat it in the prompt\n",
    "                }\n",
    "            ],\n",
    "            project_id=self.project_id,\n",
    "            apikey=self.api_key,\n",
    "            api_base=self.api_url,\n",
    "            response_model=response_model,\n",
    "            **kwargs\n",
    "        )\n",
    "        return response"
   ]
  },
  {
   "cell_type": "code",
   "execution_count": 56,
   "metadata": {},
   "outputs": [],
   "source": [
    "model = LLMCaller(\n",
    "    api_key=WX_API_KEY,  # <- Our credentials\n",
    "    project_id=WX_PROJECT_ID,\n",
    "    api_url=WX_API_URL,\n",
    "    model_id=\"watsonx/meta-llama/llama-3-3-70b-instruct\",  # <- model name from watsonx.ai\n",
    "    params={GenParams.MAX_NEW_TOKENS: 100}  # <- additional parameters for the LLM\n",
    ")"
   ]
  },
  {
   "cell_type": "code",
   "execution_count": null,
   "metadata": {},
   "outputs": [
    {
     "data": {
      "text/plain": [
       "BaseResponse(answer='A good name for a bee could be Buzz or Honey.')"
      ]
     },
     "execution_count": 57,
     "metadata": {},
     "output_type": "execute_result"
    }
   ],
   "source": [
    "model.invoke(\"What is a good name for a bee?\")  # call with no response model"
   ]
  },
  {
   "cell_type": "code",
   "execution_count": 58,
   "metadata": {},
   "outputs": [
    {
     "name": "stdout",
     "output_type": "stream",
     "text": [
      "A good name for a bee could be Buzzina\n",
      "The name Buzzina is a play on the word 'buzz', which is the sound bees make when they fly. It's a cute and memorable name that suits a busy and energetic bee\n"
     ]
    }
   ],
   "source": [
    "response = model.invoke(\n",
    "    prompt=\"What is a good name for a bee? Think carefully.\", \n",
    "    response_model=model.create_response_model(  # create a response model dynamically\n",
    "        \"BeeName\", \n",
    "        {\n",
    "            \"reasoning\": (str, Field(...)),\n",
    "            \"bee_name\": (str, Field\n",
    "                (\n",
    "                    ...,\n",
    "                    description=\"The name of the bee.\"\n",
    "                )\n",
    "            )\n",
    "        }\n",
    "    )\n",
    ")\n",
    "\n",
    "print(response.answer)\n",
    "print(response.reasoning)"
   ]
  },
  {
   "cell_type": "markdown",
   "metadata": {},
   "source": [
    "***"
   ]
  },
  {
   "cell_type": "markdown",
   "metadata": {},
   "source": [
    "# A simple AI agent\n",
    "\n",
    "We will build a simple AI agent system: A chatbot - Alfred, the butler, who\n",
    "\n",
    "1. Reads incoming emails\n",
    "2. Classifies them into a list of categories\n",
    "3. Decides whether they are spam or not\n",
    "4. If they are not spam, he will draft a suitable response\n",
    "5. If they are spam, he will move the email to the spam folder. "
   ]
  },
  {
   "cell_type": "markdown",
   "metadata": {},
   "source": [
    "First, we need to define our `State`. To reiterate, this is the central concept in LangGraph and represents all the information that flows through our application.\n",
    "\n",
    "All these attributes will be populated as we run the agent system."
   ]
  },
  {
   "cell_type": "code",
   "execution_count": null,
   "metadata": {},
   "outputs": [],
   "source": [
    "class EmailState(TypedDict):\n",
    "    # The email being processed\n",
    "    email: dict[str, Any]  # Contains subject, sender, body, etc.\n",
    "\n",
    "    # Category of the email\n",
    "    email_category: Optional[str]  # Category of the email (e.g., work, personal, etc.\n",
    "\n",
    "    # reason of spam\n",
    "    spam_reason: Optional[str]  # Reason for categorizing the email as spam\n",
    "    \n",
    "    # Analysis and decisions\n",
    "    is_spam: Optional[bool]  # Whether the email is deemed to be spam or not\n",
    "    \n",
    "    # Response generation\n",
    "    draft: Optional[str]  # Draft response to the email"
   ]
  },
  {
   "cell_type": "markdown",
   "metadata": {},
   "source": [
    "Now let's define our *nodes* - the python functions that make up the system."
   ]
  },
  {
   "cell_type": "code",
   "execution_count": 61,
   "metadata": {},
   "outputs": [],
   "source": [
    "# Initialize our LLM\n",
    "def read_email(state: EmailState):\n",
    "    \"\"\"Alfred reads and logs the incoming email\"\"\"\n",
    "    email = state[\"email\"]  # Extract the email from the state\n",
    "    \n",
    "    # Here we might do some initial preprocessing\n",
    "    print(f\"Alfred is processing an email from {email['sender']} with subject: {email['subject']}\")\n",
    "    \n",
    "    # No state changes needed here\n",
    "    return {} # <- if we don't need to update the state, we return an empty dictionary\n",
    "\n",
    "def classify_email(state: EmailState):\n",
    "    \"\"\"Alfred uses an LLM to determine if the email is spam or legitimate\"\"\"\n",
    "    email = state[\"email\"]  # Extract the email from the state\n",
    "    \n",
    "    # Prepare our prompt for the LLM\n",
    "    prompt = f\"\"\"\n",
    "    As Alfred the butler, analyze this email and determine if it is spam or legitimate.\n",
    "    \n",
    "    Email:\n",
    "    From: {email['sender']}\n",
    "    Subject: {email['subject']}\n",
    "    Body: {email['body']}\n",
    "    \n",
    "    First, determine if this email is spam. If it is spam, explain why.\n",
    "    If it is legitimate, categorize it (inquiry, complaint, thank you, etc.).\n",
    "    \"\"\"\n",
    "    \n",
    "    # Create our response model\n",
    "    response_model = model.create_response_model(\n",
    "        \"EmailAnalysis\", \n",
    "        {\n",
    "            \"spam_reason\": (str, Field(description=\"The reasoning behind the decision.\")),\n",
    "            \"is_spam\": (Literal[\"spam\", \"not spam\"], Field(description=\"Whether the email is spam.\")),\n",
    "            \"email_category\": (str, Field(description=\"The category of the email.\")) \n",
    "        }\n",
    "    )\n",
    "\n",
    "    # Call the LLM\n",
    "    response = model.invoke(prompt, response_model=response_model)\n",
    "\n",
    "    # Extract the response data\n",
    "    is_spam = response.is_spam\n",
    "    spam_reason = response.spam_reason\n",
    "    email_category = response.email_category\n",
    "    \n",
    "    # Return state updates\n",
    "    return {\n",
    "        \"is_spam\": is_spam,\n",
    "        \"spam_reason\": spam_reason,\n",
    "        \"email_category\": email_category,\n",
    "    }\n",
    "\n",
    "def handle_spam(state: EmailState):\n",
    "    \"\"\"Alfred discards spam email with a note\"\"\"\n",
    "    print(f\"Alfred has marked the email as spam. Reason: {state['spam_reason']}\")\n",
    "    print(\"The email has been moved to the spam folder.\")\n",
    "    \n",
    "    # We're done processing this email\n",
    "    return {}\n",
    "\n",
    "def draft_response(state: EmailState):\n",
    "    \"\"\"Alfred drafts a preliminary response for legitimate emails\"\"\"\n",
    "    email = state[\"email\"]  # Extract the email from the state\n",
    "    category = state[\"email_category\"] or \"general\"  # Default to a general category if not specified\n",
    "    \n",
    "    # Prepare our prompt for the LLM\n",
    "    prompt = f\"\"\"\n",
    "    As Alfred the butler, draft a polite preliminary response to this email.\n",
    "    \n",
    "    Email:\n",
    "    From: {email['sender']}\n",
    "    Subject: {email['subject']}\n",
    "    Body: {email['body']}\n",
    "    \n",
    "    This email has been categorized as: {category}\n",
    "    \n",
    "    Draft a brief, professional response that Mr. Hugg can review and personalize before sending.\n",
    "    \"\"\"\n",
    "    \n",
    "    # Call the LLM - this time without a custom response model\n",
    "    response = model.invoke(prompt) # we can use the default response model here\n",
    "    answer = response.answer  # Extract the response from the LLM\n",
    "\n",
    "    # Return state updates\n",
    "    return {\"draft\": answer}  # add the draft response to the state\n",
    "\n",
    "def notify_mr_hugg(state: EmailState):\n",
    "    \"\"\"Alfred notifies Mr. Hugg about the email and presents the draft response\"\"\"\n",
    "    email = state[\"email\"]  # Extract the email from the state\n",
    "    \n",
    "    # some pretty printing to emulate the notification\n",
    "    print(\"\\n\" + \"=\"*50)\n",
    "    print(f\"Sir, you've received an email from {email['sender']}.\")\n",
    "    print(f\"Subject: {email['subject']}\")\n",
    "    print(f\"Category: {state['email_category']}\")\n",
    "    print(\"\\nI've prepared a draft response for your review:\")\n",
    "    print(\"-\"*50)\n",
    "    print(state[\"draft\"])\n",
    "    print(\"=\"*50 + \"\\n\")\n",
    "    \n",
    "    # We're done processing this email\n",
    "    return {}"
   ]
  },
  {
   "cell_type": "markdown",
   "metadata": {},
   "source": [
    "Next, let's create our *conditional edge* - the logic that decides which path to take based on the output of the LLM."
   ]
  },
  {
   "cell_type": "code",
   "execution_count": null,
   "metadata": {},
   "outputs": [],
   "source": [
    "def route_email(state: EmailState) -> str:\n",
    "    \"\"\"Determine the next step based on spam classification\"\"\"\n",
    "    if state[\"is_spam\"] == \"spam\": # If the email is spam\n",
    "        return \"spam\" # Move to the spam handling step\n",
    "    else:\n",
    "        return \"legitimate\"  # Move to the legitimate email handling step"
   ]
  },
  {
   "cell_type": "markdown",
   "metadata": {},
   "source": [
    "Now we have our `State` and our `nodes`, we need our edges - the connections between the nodes that define the possible paths through our graph.\n",
    "\n",
    "First, we can create our `StateGraph` - the container that holds our entire agent workflow. Then we add nodes and edges to it."
   ]
  },
  {
   "cell_type": "code",
   "execution_count": 62,
   "metadata": {},
   "outputs": [],
   "source": [
    "# Create the graph\n",
    "email_graph = StateGraph(EmailState)  # Initialize the graph with the EmailState state\n",
    "\n",
    "# Add nodes\n",
    "email_graph.add_node(\"read_email\", read_email)  # Add the read_email node\n",
    "email_graph.add_node(\"classify_email\", classify_email)  # Add the classify_email node\n",
    "email_graph.add_node(\"handle_spam\", handle_spam)  # Add the handle_spam node\n",
    "email_graph.add_node(\"draft_response\", draft_response)  # Add the draft_response node\n",
    "email_graph.add_node(\"notify_mr_hugg\", notify_mr_hugg)  # Add the notify_mr_hugg node\n",
    "\n",
    "# Start the edges - LangGraph requires a start node\n",
    "email_graph.add_edge(START, \"read_email\")  # Start with reading the email\n",
    "# Add edges - defining the flow\n",
    "email_graph.add_edge(\"read_email\", \"classify_email\")  # After reading, classify the email\n",
    "\n",
    "# Add conditional branching from classify_email\n",
    "email_graph.add_conditional_edges(\n",
    "    \"classify_email\",\n",
    "    route_email, # based on this function..\n",
    "    {\n",
    "        \"spam\": \"handle_spam\",  # .. we route to these nodes\n",
    "        \"legitimate\": \"draft_response\"\n",
    "    }\n",
    ")\n",
    "\n",
    "# Add the final edges\n",
    "email_graph.add_edge(\"handle_spam\", END)  # End the process after handling spam\n",
    "email_graph.add_edge(\"draft_response\", \"notify_mr_hugg\")  # if not spam, we draft a response..\n",
    "email_graph.add_edge(\"notify_mr_hugg\", END) # .. and notify Mr. Hugg - END\n",
    "\n",
    "# Compile the graph\n",
    "compiled_graph = email_graph.compile()  # Compile the graph"
   ]
  },
  {
   "cell_type": "markdown",
   "metadata": {},
   "source": [
    "Visualize our graph"
   ]
  },
  {
   "cell_type": "code",
   "execution_count": 74,
   "metadata": {},
   "outputs": [
    {
     "data": {
      "image/png": "[encoded data removed]",
      "text/plain": [
       "<IPython.core.display.Image object>"
      ]
     },
     "execution_count": 74,
     "metadata": {},
     "output_type": "execute_result"
    }
   ],
   "source": [
    "Image(\n",
    "    compiled_graph.get_graph().draw_mermaid_png(\n",
    "        draw_method=MermaidDrawMethod.API,\n",
    "    )\n",
    ")\n"
   ]
  },
  {
   "cell_type": "markdown",
   "metadata": {},
   "source": [
    "## Test our system"
   ]
  },
  {
   "cell_type": "code",
   "execution_count": 65,
   "metadata": {},
   "outputs": [],
   "source": [
    "# Example legitimate email\n",
    "legitimate_email = {\n",
    "    \"sender\": \"john.smith@example.com\",\n",
    "    \"subject\": \"Question about your services\",\n",
    "    \"body\": \"Dear Mr. Hugg, I was referred to you by a colleague and I'm interested in learning more about your consulting services. Could we schedule a call next week? Best regards, John Smith\"\n",
    "}\n",
    "\n",
    "# Example spam email\n",
    "spam_email = {\n",
    "    \"sender\": \"winner@lottery-intl.com\",\n",
    "    \"subject\": \"YOU HAVE WON $5,000,000!!!\",\n",
    "    \"body\": \"CONGRATULATIONS! You have been selected as the winner of our international lottery! To claim your $5,000,000 prize, please send us your bank details and a processing fee of $100.\"\n",
    "}"
   ]
  },
  {
   "cell_type": "code",
   "execution_count": 66,
   "metadata": {},
   "outputs": [
    {
     "name": "stdout",
     "output_type": "stream",
     "text": [
      "\n",
      "Processing legitimate email...\n",
      "Alfred is processing an email from john.smith@example.com with subject: Question about your services\n",
      "\n",
      "==================================================\n",
      "Sir, you've received an email from john.smith@example.com.\n",
      "Subject: Question about your services\n",
      "Category: inquiry\n",
      "\n",
      "I've prepared a draft response for your review:\n",
      "--------------------------------------------------\n",
      "Dear Mr. Smith, Thank you for your email and for considering my consulting services. I'd be delighted to schedule a call with you next week to discuss how I can assist you. Please let me know a few dates and times that work for you, and I'll do my best to accommodate them. I look forward to speaking with you soon. Best regards, Mr. Hugg\n",
      "==================================================\n",
      "\n",
      "\n",
      "Processing spam email...\n",
      "Alfred is processing an email from winner@lottery-intl.com with subject: YOU HAVE WON $5,000,000!!!\n",
      "Alfred has marked the email as spam. Reason: The email is attempting to deceive the recipient into sending sensitive financial information and paying a processing fee in exchange for a fake prize, which is a clear indicator of a phishing scam. The email's subject line and body use manipulative language to create a false sense of excitement and urgency, and the request for bank details and a processing fee is a common tactic used by scammers to steal personal and financial information from the recipient. Furthermore, the email lacks personalization and appears to be a mass-produced message, which is another characteristic of spam emails. Overall, the email's content and intent are malicious and deceptive, making it a spam email that should be avoided and reported to the relevant authorities to prevent further fraudulent activities\n",
      "The email has been moved to the spam folder.\n"
     ]
    }
   ],
   "source": [
    "\n",
    "# Process the legitimate email\n",
    "print(\"\\nProcessing legitimate email...\")\n",
    "legitimate_result = compiled_graph.invoke({ # invoke the graph with the email\n",
    "    \"email\": legitimate_email,\n",
    "    \"is_spam\": None,  # initialize the state variables to None / empty\n",
    "    \"spam_reason\": None,\n",
    "    \"email_category\": None,\n",
    "    \"draft_response\": None,\n",
    "})\n",
    "\n",
    "# Process the spam email\n",
    "print(\"\\nProcessing spam email...\")\n",
    "spam_result = compiled_graph.invoke({\n",
    "    \"email\": spam_email,\n",
    "    \"is_spam\": None,\n",
    "    \"spam_reason\": None,\n",
    "    \"email_category\": None,\n",
    "    \"draft_response\": None,\n",
    "})"
   ]
  }
 ],
 "metadata": {
  "kernelspec": {
   "display_name": "aiml25-ma3",
   "language": "python",
   "name": "python3"
  },
  "language_info": {
   "codemirror_mode": {
    "name": "ipython",
    "version": 3
   },
   "file_extension": ".py",
   "mimetype": "text/x-python",
   "name": "python",
   "nbconvert_exporter": "python",
   "pygments_lexer": "ipython3",
   "version": "3.11.11"
  }
 },
 "nbformat": 4,
 "nbformat_minor": 2
}
